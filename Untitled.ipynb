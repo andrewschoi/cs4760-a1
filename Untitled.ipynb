{
 "cells": [
  {
   "cell_type": "code",
   "execution_count": 23,
   "id": "6ed4b3c5",
   "metadata": {},
   "outputs": [
    {
     "name": "stderr",
     "output_type": "stream",
     "text": [
      "F...E..EEEE\n",
      "======================================================================\n",
      "ERROR: testValues (__main__.Draw_linesTestCase)\n",
      "----------------------------------------------------------------------\n",
      "Traceback (most recent call last):\n",
      "  File \"/Users/andrewchoi/4670/a1/tests.py\", line 89, in setUp\n",
      "    self.img = student.imread('test.png')\n",
      "  File \"/Users/andrewchoi/4670/a1/p1.py\", line 10, in imread\n",
      "    return img / 255.\n",
      "numpy.core._exceptions._UFuncOutputCastingError: Cannot cast ufunc 'true_divide' output from dtype('float64') to dtype('uint8') with casting rule 'same_kind'\n",
      "\n",
      "======================================================================\n",
      "ERROR: testValues (__main__.GradientTestCase)\n",
      "----------------------------------------------------------------------\n",
      "Traceback (most recent call last):\n",
      "  File \"/Users/andrewchoi/4670/a1/tests.py\", line 63, in setUp\n",
      "    self.img = student.imread('test.png')\n",
      "  File \"/Users/andrewchoi/4670/a1/p1.py\", line 10, in imread\n",
      "    return img / 255.\n",
      "numpy.core._exceptions._UFuncOutputCastingError: Cannot cast ufunc 'true_divide' output from dtype('float64') to dtype('uint8') with casting rule 'same_kind'\n",
      "\n",
      "======================================================================\n",
      "ERROR: testHough (__main__.Hough_votingandLocalmaxTestCase)\n",
      "----------------------------------------------------------------------\n",
      "Traceback (most recent call last):\n",
      "  File \"/Users/andrewchoi/4670/a1/tests.py\", line 110, in setUp\n",
      "    self.img = student.imread('test.png')\n",
      "  File \"/Users/andrewchoi/4670/a1/p1.py\", line 10, in imread\n",
      "    return img / 255.\n",
      "numpy.core._exceptions._UFuncOutputCastingError: Cannot cast ufunc 'true_divide' output from dtype('float64') to dtype('uint8') with casting rule 'same_kind'\n",
      "\n",
      "======================================================================\n",
      "ERROR: testLocalmax (__main__.Hough_votingandLocalmaxTestCase)\n",
      "----------------------------------------------------------------------\n",
      "Traceback (most recent call last):\n",
      "  File \"/Users/andrewchoi/4670/a1/tests.py\", line 110, in setUp\n",
      "    self.img = student.imread('test.png')\n",
      "  File \"/Users/andrewchoi/4670/a1/p1.py\", line 10, in imread\n",
      "    return img / 255.\n",
      "numpy.core._exceptions._UFuncOutputCastingError: Cannot cast ufunc 'true_divide' output from dtype('float64') to dtype('uint8') with casting rule 'same_kind'\n",
      "\n",
      "======================================================================\n",
      "ERROR: testOutput (__main__.ImreadTestCase)\n",
      "----------------------------------------------------------------------\n",
      "Traceback (most recent call last):\n",
      "  File \"/Users/andrewchoi/4670/a1/tests.py\", line 11, in testOutput\n",
      "    output = student.imread(self.file)\n",
      "  File \"/Users/andrewchoi/4670/a1/p1.py\", line 10, in imread\n",
      "    return img / 255.\n",
      "numpy.core._exceptions._UFuncOutputCastingError: Cannot cast ufunc 'true_divide' output from dtype('float64') to dtype('uint8') with casting rule 'same_kind'\n",
      "\n",
      "======================================================================\n",
      "FAIL: testValues (__main__.Check_distance_from_lineTestCase)\n",
      "----------------------------------------------------------------------\n",
      "Traceback (most recent call last):\n",
      "  File \"/Users/andrewchoi/4670/a1/tests.py\", line 84, in testValues\n",
      "    self.assertTrue(np.all(out[:3]==True) and np.all(out[3:]==False),'Check distance from line incorrect.')\n",
      "AssertionError: False is not true : Check distance from line incorrect.\n",
      "\n",
      "----------------------------------------------------------------------\n",
      "Ran 11 tests in 1.589s\n",
      "\n",
      "FAILED (failures=1, errors=5)\n"
     ]
    },
    {
     "ename": "SystemExit",
     "evalue": "True",
     "output_type": "error",
     "traceback": [
      "An exception has occurred, use %tb to see the full traceback.\n",
      "\u001b[0;31mSystemExit\u001b[0m\u001b[0;31m:\u001b[0m True\n"
     ]
    }
   ],
   "source": [
    "%run tests.py"
   ]
  },
  {
   "cell_type": "code",
   "execution_count": null,
   "id": "bf7a202c",
   "metadata": {},
   "outputs": [],
   "source": []
  }
 ],
 "metadata": {
  "kernelspec": {
   "display_name": "Python 3 (ipykernel)",
   "language": "python",
   "name": "python3"
  },
  "language_info": {
   "codemirror_mode": {
    "name": "ipython",
    "version": 3
   },
   "file_extension": ".py",
   "mimetype": "text/x-python",
   "name": "python",
   "nbconvert_exporter": "python",
   "pygments_lexer": "ipython3",
   "version": "3.9.12"
  }
 },
 "nbformat": 4,
 "nbformat_minor": 5
}
