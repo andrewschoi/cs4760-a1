{
 "cells": [
  {
   "cell_type": "code",
   "execution_count": 5,
   "id": "16f458e0",
   "metadata": {},
   "outputs": [
    {
     "name": "stderr",
     "output_type": "stream",
     "text": [
      "F.../Users/andrewchoi/4670/a1/p1.py:10: DeprecationWarning: `np.float` is a deprecated alias for the builtin `float`. To silence this warning, use `float` by itself. Doing this will not modify any behavior and is safe. If you specifically wanted the numpy scalar type, use `np.float64` here.\n",
      "Deprecated in NumPy 1.20; for more details and guidance: https://numpy.org/devdocs/release/1.20.0-notes.html#deprecations\n",
      "  img_array /= 255\n",
      "E.FEEE.\n",
      "======================================================================\n",
      "ERROR: testValues (__main__.Draw_linesTestCase)\n",
      "----------------------------------------------------------------------\n",
      "Traceback (most recent call last):\n",
      "  File \"/Users/andrewchoi/4670/a1/tests.py\", line 93, in testValues\n",
      "    out = student.draw_lines(self.img, self.lines, thresh=0.5)\n",
      "  File \"/Users/andrewchoi/4670/a1/p1.py\", line 139, in draw_lines\n",
      "    return result_img\n",
      "  File \"/Users/andrewchoi/4670/a1/p1.py\", line 139, in <listcomp>\n",
      "    return result_img\n",
      "TypeError: check_distance_from_line() missing 1 required positional argument: 'thresh'\n",
      "\n",
      "======================================================================\n",
      "ERROR: testValues (__main__.GradientTestCase)\n",
      "----------------------------------------------------------------------\n",
      "TypeError: only size-1 arrays can be converted to Python scalars\n",
      "\n",
      "The above exception was the direct cause of the following exception:\n",
      "\n",
      "Traceback (most recent call last):\n",
      "  File \"/Users/andrewchoi/4670/a1/tests.py\", line 66, in testValues\n",
      "    mag, ori = student.gradient(self.img)\n",
      "  File \"/Users/andrewchoi/4670/a1/p1.py\", line 106, in gradient\n",
      "    image_orientation[i][j] = np.arctan2(y_gradient[i][j], x_gradient[i][j])\n",
      "ValueError: setting an array element with a sequence.\n",
      "\n",
      "======================================================================\n",
      "ERROR: testHough (__main__.Hough_votingandLocalmaxTestCase)\n",
      "----------------------------------------------------------------------\n",
      "TypeError: only size-1 arrays can be converted to Python scalars\n",
      "\n",
      "The above exception was the direct cause of the following exception:\n",
      "\n",
      "Traceback (most recent call last):\n",
      "  File \"/Users/andrewchoi/4670/a1/tests.py\", line 111, in setUp\n",
      "    self.gradmag, self.gradori = student.gradient(self.img)\n",
      "  File \"/Users/andrewchoi/4670/a1/p1.py\", line 106, in gradient\n",
      "    image_orientation[i][j] = np.arctan2(y_gradient[i][j], x_gradient[i][j])\n",
      "ValueError: setting an array element with a sequence.\n",
      "\n",
      "======================================================================\n",
      "ERROR: testLocalmax (__main__.Hough_votingandLocalmaxTestCase)\n",
      "----------------------------------------------------------------------\n",
      "TypeError: only size-1 arrays can be converted to Python scalars\n",
      "\n",
      "The above exception was the direct cause of the following exception:\n",
      "\n",
      "Traceback (most recent call last):\n",
      "  File \"/Users/andrewchoi/4670/a1/tests.py\", line 111, in setUp\n",
      "    self.gradmag, self.gradori = student.gradient(self.img)\n",
      "  File \"/Users/andrewchoi/4670/a1/p1.py\", line 106, in gradient\n",
      "    image_orientation[i][j] = np.arctan2(y_gradient[i][j], x_gradient[i][j])\n",
      "ValueError: setting an array element with a sequence.\n",
      "\n",
      "======================================================================\n",
      "FAIL: testValues (__main__.Check_distance_from_lineTestCase)\n",
      "----------------------------------------------------------------------\n",
      "Traceback (most recent call last):\n",
      "  File \"/Users/andrewchoi/4670/a1/tests.py\", line 84, in testValues\n",
      "    self.assertTrue(np.all(out[:3]==True) and np.all(out[3:]==False),'Check distance from line incorrect.')\n",
      "AssertionError: False is not true : Check distance from line incorrect.\n",
      "\n",
      "======================================================================\n",
      "FAIL: testValues (__main__.GaussianTestCase)\n",
      "----------------------------------------------------------------------\n",
      "Traceback (most recent call last):\n",
      "  File \"/Users/andrewchoi/4670/a1/tests.py\", line 58, in testValues\n",
      "    self.assertTrue(np.allclose(out, out_gt))\n",
      "AssertionError: False is not true\n",
      "\n",
      "----------------------------------------------------------------------\n",
      "Ran 11 tests in 83.289s\n",
      "\n",
      "FAILED (failures=2, errors=4)\n"
     ]
    },
    {
     "ename": "SystemExit",
     "evalue": "True",
     "output_type": "error",
     "traceback": [
      "An exception has occurred, use %tb to see the full traceback.\n",
      "\u001b[0;31mSystemExit\u001b[0m\u001b[0;31m:\u001b[0m True\n"
     ]
    }
   ],
   "source": [
    "%run tests.py"
   ]
  },
  {
   "cell_type": "code",
   "execution_count": null,
   "id": "e2786d77",
   "metadata": {},
   "outputs": [],
   "source": []
  }
 ],
 "metadata": {
  "kernelspec": {
   "display_name": "Python 3 (ipykernel)",
   "language": "python",
   "name": "python3"
  },
  "language_info": {
   "codemirror_mode": {
    "name": "ipython",
    "version": 3
   },
   "file_extension": ".py",
   "mimetype": "text/x-python",
   "name": "python",
   "nbconvert_exporter": "python",
   "pygments_lexer": "ipython3",
   "version": "3.9.12"
  }
 },
 "nbformat": 4,
 "nbformat_minor": 5
}
